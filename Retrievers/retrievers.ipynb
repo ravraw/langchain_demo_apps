{
 "cells": [
  {
   "metadata": {
    "ExecuteTime": {
     "end_time": "2025-09-18T22:19:14.780299Z",
     "start_time": "2025-09-18T22:19:14.777942Z"
    }
   },
   "cell_type": "code",
   "source": "## Wikipedia Retriever",
   "id": "76eb9a4287755097",
   "outputs": [],
   "execution_count": 11
  },
  {
   "metadata": {
    "ExecuteTime": {
     "end_time": "2025-09-18T22:18:55.182355Z",
     "start_time": "2025-09-18T22:18:54.655774Z"
    }
   },
   "cell_type": "code",
   "outputs": [
    {
     "name": "stdout",
     "output_type": "stream",
     "text": [
      "Requirement already satisfied: langchain in /opt/anaconda3/envs/langchain-demo-apps/lib/python3.11/site-packages (0.3.27)\r\n",
      "Requirement already satisfied: chromadb in /opt/anaconda3/envs/langchain-demo-apps/lib/python3.11/site-packages (1.1.0)\r\n",
      "Requirement already satisfied: faiss-cpu in /opt/anaconda3/envs/langchain-demo-apps/lib/python3.11/site-packages (1.12.0)\r\n",
      "Requirement already satisfied: openai in /opt/anaconda3/envs/langchain-demo-apps/lib/python3.11/site-packages (1.108.0)\r\n",
      "Requirement already satisfied: tiktoken in /opt/anaconda3/envs/langchain-demo-apps/lib/python3.11/site-packages (0.11.0)\r\n",
      "Requirement already satisfied: langchain_openai in /opt/anaconda3/envs/langchain-demo-apps/lib/python3.11/site-packages (0.3.33)\r\n",
      "Requirement already satisfied: langchain-community in /opt/anaconda3/envs/langchain-demo-apps/lib/python3.11/site-packages (0.3.29)\r\n",
      "Requirement already satisfied: wikipedia in /opt/anaconda3/envs/langchain-demo-apps/lib/python3.11/site-packages (1.4.0)\r\n",
      "Requirement already satisfied: langchain-core<1.0.0,>=0.3.72 in /opt/anaconda3/envs/langchain-demo-apps/lib/python3.11/site-packages (from langchain) (0.3.76)\r\n",
      "Requirement already satisfied: langchain-text-splitters<1.0.0,>=0.3.9 in /opt/anaconda3/envs/langchain-demo-apps/lib/python3.11/site-packages (from langchain) (0.3.11)\r\n",
      "Requirement already satisfied: langsmith>=0.1.17 in /opt/anaconda3/envs/langchain-demo-apps/lib/python3.11/site-packages (from langchain) (0.4.28)\r\n",
      "Requirement already satisfied: pydantic<3.0.0,>=2.7.4 in /opt/anaconda3/envs/langchain-demo-apps/lib/python3.11/site-packages (from langchain) (2.11.9)\r\n",
      "Requirement already satisfied: SQLAlchemy<3,>=1.4 in /opt/anaconda3/envs/langchain-demo-apps/lib/python3.11/site-packages (from langchain) (2.0.43)\r\n",
      "Requirement already satisfied: requests<3,>=2 in /opt/anaconda3/envs/langchain-demo-apps/lib/python3.11/site-packages (from langchain) (2.32.5)\r\n",
      "Requirement already satisfied: PyYAML>=5.3 in /opt/anaconda3/envs/langchain-demo-apps/lib/python3.11/site-packages (from langchain) (6.0.2)\r\n",
      "Requirement already satisfied: tenacity!=8.4.0,<10.0.0,>=8.1.0 in /opt/anaconda3/envs/langchain-demo-apps/lib/python3.11/site-packages (from langchain-core<1.0.0,>=0.3.72->langchain) (9.1.2)\r\n",
      "Requirement already satisfied: jsonpatch<2.0,>=1.33 in /opt/anaconda3/envs/langchain-demo-apps/lib/python3.11/site-packages (from langchain-core<1.0.0,>=0.3.72->langchain) (1.33)\r\n",
      "Requirement already satisfied: typing-extensions>=4.7 in /opt/anaconda3/envs/langchain-demo-apps/lib/python3.11/site-packages (from langchain-core<1.0.0,>=0.3.72->langchain) (4.15.0)\r\n",
      "Requirement already satisfied: packaging>=23.2 in /opt/anaconda3/envs/langchain-demo-apps/lib/python3.11/site-packages (from langchain-core<1.0.0,>=0.3.72->langchain) (25.0)\r\n",
      "Requirement already satisfied: jsonpointer>=1.9 in /opt/anaconda3/envs/langchain-demo-apps/lib/python3.11/site-packages (from jsonpatch<2.0,>=1.33->langchain-core<1.0.0,>=0.3.72->langchain) (3.0.0)\r\n",
      "Requirement already satisfied: annotated-types>=0.6.0 in /opt/anaconda3/envs/langchain-demo-apps/lib/python3.11/site-packages (from pydantic<3.0.0,>=2.7.4->langchain) (0.7.0)\r\n",
      "Requirement already satisfied: pydantic-core==2.33.2 in /opt/anaconda3/envs/langchain-demo-apps/lib/python3.11/site-packages (from pydantic<3.0.0,>=2.7.4->langchain) (2.33.2)\r\n",
      "Requirement already satisfied: typing-inspection>=0.4.0 in /opt/anaconda3/envs/langchain-demo-apps/lib/python3.11/site-packages (from pydantic<3.0.0,>=2.7.4->langchain) (0.4.1)\r\n",
      "Requirement already satisfied: charset_normalizer<4,>=2 in /opt/anaconda3/envs/langchain-demo-apps/lib/python3.11/site-packages (from requests<3,>=2->langchain) (3.4.3)\r\n",
      "Requirement already satisfied: idna<4,>=2.5 in /opt/anaconda3/envs/langchain-demo-apps/lib/python3.11/site-packages (from requests<3,>=2->langchain) (3.10)\r\n",
      "Requirement already satisfied: urllib3<3,>=1.21.1 in /opt/anaconda3/envs/langchain-demo-apps/lib/python3.11/site-packages (from requests<3,>=2->langchain) (2.5.0)\r\n",
      "Requirement already satisfied: certifi>=2017.4.17 in /opt/anaconda3/envs/langchain-demo-apps/lib/python3.11/site-packages (from requests<3,>=2->langchain) (2025.8.3)\r\n",
      "Requirement already satisfied: build>=1.0.3 in /opt/anaconda3/envs/langchain-demo-apps/lib/python3.11/site-packages (from chromadb) (1.3.0)\r\n",
      "Requirement already satisfied: pybase64>=1.4.1 in /opt/anaconda3/envs/langchain-demo-apps/lib/python3.11/site-packages (from chromadb) (1.4.2)\r\n",
      "Requirement already satisfied: uvicorn>=0.18.3 in /opt/anaconda3/envs/langchain-demo-apps/lib/python3.11/site-packages (from uvicorn[standard]>=0.18.3->chromadb) (0.35.0)\r\n",
      "Requirement already satisfied: numpy>=1.22.5 in /opt/anaconda3/envs/langchain-demo-apps/lib/python3.11/site-packages (from chromadb) (2.3.3)\r\n",
      "Requirement already satisfied: posthog<6.0.0,>=2.4.0 in /opt/anaconda3/envs/langchain-demo-apps/lib/python3.11/site-packages (from chromadb) (5.4.0)\r\n",
      "Requirement already satisfied: onnxruntime>=1.14.1 in /opt/anaconda3/envs/langchain-demo-apps/lib/python3.11/site-packages (from chromadb) (1.22.1)\r\n",
      "Requirement already satisfied: opentelemetry-api>=1.2.0 in /opt/anaconda3/envs/langchain-demo-apps/lib/python3.11/site-packages (from chromadb) (1.37.0)\r\n",
      "Requirement already satisfied: opentelemetry-exporter-otlp-proto-grpc>=1.2.0 in /opt/anaconda3/envs/langchain-demo-apps/lib/python3.11/site-packages (from chromadb) (1.37.0)\r\n",
      "Requirement already satisfied: opentelemetry-sdk>=1.2.0 in /opt/anaconda3/envs/langchain-demo-apps/lib/python3.11/site-packages (from chromadb) (1.37.0)\r\n",
      "Requirement already satisfied: tokenizers>=0.13.2 in /opt/anaconda3/envs/langchain-demo-apps/lib/python3.11/site-packages (from chromadb) (0.22.0)\r\n",
      "Requirement already satisfied: pypika>=0.48.9 in /opt/anaconda3/envs/langchain-demo-apps/lib/python3.11/site-packages (from chromadb) (0.48.9)\r\n",
      "Requirement already satisfied: tqdm>=4.65.0 in /opt/anaconda3/envs/langchain-demo-apps/lib/python3.11/site-packages (from chromadb) (4.67.1)\r\n",
      "Requirement already satisfied: overrides>=7.3.1 in /opt/anaconda3/envs/langchain-demo-apps/lib/python3.11/site-packages (from chromadb) (7.4.0)\r\n",
      "Requirement already satisfied: importlib-resources in /opt/anaconda3/envs/langchain-demo-apps/lib/python3.11/site-packages (from chromadb) (6.5.2)\r\n",
      "Requirement already satisfied: grpcio>=1.58.0 in /opt/anaconda3/envs/langchain-demo-apps/lib/python3.11/site-packages (from chromadb) (1.75.0)\r\n",
      "Requirement already satisfied: bcrypt>=4.0.1 in /opt/anaconda3/envs/langchain-demo-apps/lib/python3.11/site-packages (from chromadb) (4.3.0)\r\n",
      "Requirement already satisfied: typer>=0.9.0 in /opt/anaconda3/envs/langchain-demo-apps/lib/python3.11/site-packages (from chromadb) (0.17.4)\r\n",
      "Requirement already satisfied: kubernetes>=28.1.0 in /opt/anaconda3/envs/langchain-demo-apps/lib/python3.11/site-packages (from chromadb) (33.1.0)\r\n",
      "Requirement already satisfied: mmh3>=4.0.1 in /opt/anaconda3/envs/langchain-demo-apps/lib/python3.11/site-packages (from chromadb) (5.2.0)\r\n",
      "Requirement already satisfied: orjson>=3.9.12 in /opt/anaconda3/envs/langchain-demo-apps/lib/python3.11/site-packages (from chromadb) (3.11.3)\r\n",
      "Requirement already satisfied: httpx>=0.27.0 in /opt/anaconda3/envs/langchain-demo-apps/lib/python3.11/site-packages (from chromadb) (0.28.1)\r\n",
      "Requirement already satisfied: rich>=10.11.0 in /opt/anaconda3/envs/langchain-demo-apps/lib/python3.11/site-packages (from chromadb) (14.1.0)\r\n",
      "Requirement already satisfied: jsonschema>=4.19.0 in /opt/anaconda3/envs/langchain-demo-apps/lib/python3.11/site-packages (from chromadb) (4.25.0)\r\n",
      "Requirement already satisfied: six>=1.5 in /opt/anaconda3/envs/langchain-demo-apps/lib/python3.11/site-packages (from posthog<6.0.0,>=2.4.0->chromadb) (1.17.0)\r\n",
      "Requirement already satisfied: python-dateutil>=2.2 in /opt/anaconda3/envs/langchain-demo-apps/lib/python3.11/site-packages (from posthog<6.0.0,>=2.4.0->chromadb) (2.9.0.post0)\r\n",
      "Requirement already satisfied: backoff>=1.10.0 in /opt/anaconda3/envs/langchain-demo-apps/lib/python3.11/site-packages (from posthog<6.0.0,>=2.4.0->chromadb) (2.2.1)\r\n",
      "Requirement already satisfied: distro>=1.5.0 in /opt/anaconda3/envs/langchain-demo-apps/lib/python3.11/site-packages (from posthog<6.0.0,>=2.4.0->chromadb) (1.9.0)\r\n",
      "Requirement already satisfied: anyio<5,>=3.5.0 in /opt/anaconda3/envs/langchain-demo-apps/lib/python3.11/site-packages (from openai) (4.10.0)\r\n",
      "Requirement already satisfied: jiter<1,>=0.4.0 in /opt/anaconda3/envs/langchain-demo-apps/lib/python3.11/site-packages (from openai) (0.11.0)\r\n",
      "Requirement already satisfied: sniffio in /opt/anaconda3/envs/langchain-demo-apps/lib/python3.11/site-packages (from openai) (1.3.1)\r\n",
      "Requirement already satisfied: httpcore==1.* in /opt/anaconda3/envs/langchain-demo-apps/lib/python3.11/site-packages (from httpx>=0.27.0->chromadb) (1.0.9)\r\n",
      "Requirement already satisfied: h11>=0.16 in /opt/anaconda3/envs/langchain-demo-apps/lib/python3.11/site-packages (from httpcore==1.*->httpx>=0.27.0->chromadb) (0.16.0)\r\n",
      "Requirement already satisfied: regex>=2022.1.18 in /opt/anaconda3/envs/langchain-demo-apps/lib/python3.11/site-packages (from tiktoken) (2025.9.1)\r\n",
      "Requirement already satisfied: aiohttp<4.0.0,>=3.8.3 in /opt/anaconda3/envs/langchain-demo-apps/lib/python3.11/site-packages (from langchain-community) (3.12.15)\r\n",
      "Requirement already satisfied: dataclasses-json<0.7,>=0.6.7 in /opt/anaconda3/envs/langchain-demo-apps/lib/python3.11/site-packages (from langchain-community) (0.6.7)\r\n",
      "Requirement already satisfied: pydantic-settings<3.0.0,>=2.10.1 in /opt/anaconda3/envs/langchain-demo-apps/lib/python3.11/site-packages (from langchain-community) (2.10.1)\r\n",
      "Requirement already satisfied: httpx-sse<1.0.0,>=0.4.0 in /opt/anaconda3/envs/langchain-demo-apps/lib/python3.11/site-packages (from langchain-community) (0.4.1)\r\n",
      "Requirement already satisfied: aiohappyeyeballs>=2.5.0 in /opt/anaconda3/envs/langchain-demo-apps/lib/python3.11/site-packages (from aiohttp<4.0.0,>=3.8.3->langchain-community) (2.6.1)\r\n",
      "Requirement already satisfied: aiosignal>=1.4.0 in /opt/anaconda3/envs/langchain-demo-apps/lib/python3.11/site-packages (from aiohttp<4.0.0,>=3.8.3->langchain-community) (1.4.0)\r\n",
      "Requirement already satisfied: attrs>=17.3.0 in /opt/anaconda3/envs/langchain-demo-apps/lib/python3.11/site-packages (from aiohttp<4.0.0,>=3.8.3->langchain-community) (24.3.0)\r\n",
      "Requirement already satisfied: frozenlist>=1.1.1 in /opt/anaconda3/envs/langchain-demo-apps/lib/python3.11/site-packages (from aiohttp<4.0.0,>=3.8.3->langchain-community) (1.7.0)\r\n",
      "Requirement already satisfied: multidict<7.0,>=4.5 in /opt/anaconda3/envs/langchain-demo-apps/lib/python3.11/site-packages (from aiohttp<4.0.0,>=3.8.3->langchain-community) (6.6.4)\r\n",
      "Requirement already satisfied: propcache>=0.2.0 in /opt/anaconda3/envs/langchain-demo-apps/lib/python3.11/site-packages (from aiohttp<4.0.0,>=3.8.3->langchain-community) (0.3.2)\r\n",
      "Requirement already satisfied: yarl<2.0,>=1.17.0 in /opt/anaconda3/envs/langchain-demo-apps/lib/python3.11/site-packages (from aiohttp<4.0.0,>=3.8.3->langchain-community) (1.20.1)\r\n",
      "Requirement already satisfied: marshmallow<4.0.0,>=3.18.0 in /opt/anaconda3/envs/langchain-demo-apps/lib/python3.11/site-packages (from dataclasses-json<0.7,>=0.6.7->langchain-community) (3.26.1)\r\n",
      "Requirement already satisfied: typing-inspect<1,>=0.4.0 in /opt/anaconda3/envs/langchain-demo-apps/lib/python3.11/site-packages (from dataclasses-json<0.7,>=0.6.7->langchain-community) (0.9.0)\r\n",
      "Requirement already satisfied: python-dotenv>=0.21.0 in /opt/anaconda3/envs/langchain-demo-apps/lib/python3.11/site-packages (from pydantic-settings<3.0.0,>=2.10.1->langchain-community) (1.1.1)\r\n",
      "Requirement already satisfied: mypy-extensions>=0.3.0 in /opt/anaconda3/envs/langchain-demo-apps/lib/python3.11/site-packages (from typing-inspect<1,>=0.4.0->dataclasses-json<0.7,>=0.6.7->langchain-community) (1.1.0)\r\n",
      "Requirement already satisfied: beautifulsoup4 in /opt/anaconda3/envs/langchain-demo-apps/lib/python3.11/site-packages (from wikipedia) (4.13.5)\r\n",
      "Requirement already satisfied: pyproject_hooks in /opt/anaconda3/envs/langchain-demo-apps/lib/python3.11/site-packages (from build>=1.0.3->chromadb) (1.2.0)\r\n",
      "Requirement already satisfied: jsonschema-specifications>=2023.03.6 in /opt/anaconda3/envs/langchain-demo-apps/lib/python3.11/site-packages (from jsonschema>=4.19.0->chromadb) (2023.7.1)\r\n",
      "Requirement already satisfied: referencing>=0.28.4 in /opt/anaconda3/envs/langchain-demo-apps/lib/python3.11/site-packages (from jsonschema>=4.19.0->chromadb) (0.30.2)\r\n",
      "Requirement already satisfied: rpds-py>=0.7.1 in /opt/anaconda3/envs/langchain-demo-apps/lib/python3.11/site-packages (from jsonschema>=4.19.0->chromadb) (0.22.3)\r\n",
      "Requirement already satisfied: google-auth>=1.0.1 in /opt/anaconda3/envs/langchain-demo-apps/lib/python3.11/site-packages (from kubernetes>=28.1.0->chromadb) (2.40.3)\r\n",
      "Requirement already satisfied: websocket-client!=0.40.0,!=0.41.*,!=0.42.*,>=0.32.0 in /opt/anaconda3/envs/langchain-demo-apps/lib/python3.11/site-packages (from kubernetes>=28.1.0->chromadb) (1.8.0)\r\n",
      "Requirement already satisfied: requests-oauthlib in /opt/anaconda3/envs/langchain-demo-apps/lib/python3.11/site-packages (from kubernetes>=28.1.0->chromadb) (2.0.0)\r\n",
      "Requirement already satisfied: oauthlib>=3.2.2 in /opt/anaconda3/envs/langchain-demo-apps/lib/python3.11/site-packages (from kubernetes>=28.1.0->chromadb) (3.3.1)\r\n",
      "Requirement already satisfied: durationpy>=0.7 in /opt/anaconda3/envs/langchain-demo-apps/lib/python3.11/site-packages (from kubernetes>=28.1.0->chromadb) (0.10)\r\n",
      "Requirement already satisfied: cachetools<6.0,>=2.0.0 in /opt/anaconda3/envs/langchain-demo-apps/lib/python3.11/site-packages (from google-auth>=1.0.1->kubernetes>=28.1.0->chromadb) (5.5.2)\r\n",
      "Requirement already satisfied: pyasn1-modules>=0.2.1 in /opt/anaconda3/envs/langchain-demo-apps/lib/python3.11/site-packages (from google-auth>=1.0.1->kubernetes>=28.1.0->chromadb) (0.4.2)\r\n",
      "Requirement already satisfied: rsa<5,>=3.1.4 in /opt/anaconda3/envs/langchain-demo-apps/lib/python3.11/site-packages (from google-auth>=1.0.1->kubernetes>=28.1.0->chromadb) (4.9.1)\r\n",
      "Requirement already satisfied: pyasn1>=0.1.3 in /opt/anaconda3/envs/langchain-demo-apps/lib/python3.11/site-packages (from rsa<5,>=3.1.4->google-auth>=1.0.1->kubernetes>=28.1.0->chromadb) (0.6.1)\r\n",
      "Requirement already satisfied: requests-toolbelt>=1.0.0 in /opt/anaconda3/envs/langchain-demo-apps/lib/python3.11/site-packages (from langsmith>=0.1.17->langchain) (1.0.0)\r\n",
      "Requirement already satisfied: zstandard>=0.23.0 in /opt/anaconda3/envs/langchain-demo-apps/lib/python3.11/site-packages (from langsmith>=0.1.17->langchain) (0.25.0)\r\n",
      "Requirement already satisfied: coloredlogs in /opt/anaconda3/envs/langchain-demo-apps/lib/python3.11/site-packages (from onnxruntime>=1.14.1->chromadb) (15.0.1)\r\n",
      "Requirement already satisfied: flatbuffers in /opt/anaconda3/envs/langchain-demo-apps/lib/python3.11/site-packages (from onnxruntime>=1.14.1->chromadb) (25.2.10)\r\n",
      "Requirement already satisfied: protobuf in /opt/anaconda3/envs/langchain-demo-apps/lib/python3.11/site-packages (from onnxruntime>=1.14.1->chromadb) (5.29.5)\r\n",
      "Requirement already satisfied: sympy in /opt/anaconda3/envs/langchain-demo-apps/lib/python3.11/site-packages (from onnxruntime>=1.14.1->chromadb) (1.14.0)\r\n",
      "Requirement already satisfied: importlib-metadata<8.8.0,>=6.0 in /opt/anaconda3/envs/langchain-demo-apps/lib/python3.11/site-packages (from opentelemetry-api>=1.2.0->chromadb) (8.7.0)\r\n",
      "Requirement already satisfied: zipp>=3.20 in /opt/anaconda3/envs/langchain-demo-apps/lib/python3.11/site-packages (from importlib-metadata<8.8.0,>=6.0->opentelemetry-api>=1.2.0->chromadb) (3.23.0)\r\n",
      "Requirement already satisfied: googleapis-common-protos~=1.57 in /opt/anaconda3/envs/langchain-demo-apps/lib/python3.11/site-packages (from opentelemetry-exporter-otlp-proto-grpc>=1.2.0->chromadb) (1.70.0)\r\n",
      "Requirement already satisfied: opentelemetry-exporter-otlp-proto-common==1.37.0 in /opt/anaconda3/envs/langchain-demo-apps/lib/python3.11/site-packages (from opentelemetry-exporter-otlp-proto-grpc>=1.2.0->chromadb) (1.37.0)\r\n",
      "Requirement already satisfied: opentelemetry-proto==1.37.0 in /opt/anaconda3/envs/langchain-demo-apps/lib/python3.11/site-packages (from opentelemetry-exporter-otlp-proto-grpc>=1.2.0->chromadb) (1.37.0)\r\n",
      "Requirement already satisfied: opentelemetry-semantic-conventions==0.58b0 in /opt/anaconda3/envs/langchain-demo-apps/lib/python3.11/site-packages (from opentelemetry-sdk>=1.2.0->chromadb) (0.58b0)\r\n",
      "Requirement already satisfied: markdown-it-py>=2.2.0 in /opt/anaconda3/envs/langchain-demo-apps/lib/python3.11/site-packages (from rich>=10.11.0->chromadb) (4.0.0)\r\n",
      "Requirement already satisfied: pygments<3.0.0,>=2.13.0 in /opt/anaconda3/envs/langchain-demo-apps/lib/python3.11/site-packages (from rich>=10.11.0->chromadb) (2.19.1)\r\n",
      "Requirement already satisfied: mdurl~=0.1 in /opt/anaconda3/envs/langchain-demo-apps/lib/python3.11/site-packages (from markdown-it-py>=2.2.0->rich>=10.11.0->chromadb) (0.1.2)\r\n",
      "Requirement already satisfied: huggingface-hub<1.0,>=0.16.4 in /opt/anaconda3/envs/langchain-demo-apps/lib/python3.11/site-packages (from tokenizers>=0.13.2->chromadb) (0.35.0)\r\n",
      "Requirement already satisfied: filelock in /opt/anaconda3/envs/langchain-demo-apps/lib/python3.11/site-packages (from huggingface-hub<1.0,>=0.16.4->tokenizers>=0.13.2->chromadb) (3.19.1)\r\n",
      "Requirement already satisfied: fsspec>=2023.5.0 in /opt/anaconda3/envs/langchain-demo-apps/lib/python3.11/site-packages (from huggingface-hub<1.0,>=0.16.4->tokenizers>=0.13.2->chromadb) (2025.9.0)\r\n",
      "Requirement already satisfied: hf-xet<2.0.0,>=1.1.3 in /opt/anaconda3/envs/langchain-demo-apps/lib/python3.11/site-packages (from huggingface-hub<1.0,>=0.16.4->tokenizers>=0.13.2->chromadb) (1.1.10)\r\n",
      "Requirement already satisfied: click>=8.0.0 in /opt/anaconda3/envs/langchain-demo-apps/lib/python3.11/site-packages (from typer>=0.9.0->chromadb) (8.3.0)\r\n",
      "Requirement already satisfied: shellingham>=1.3.0 in /opt/anaconda3/envs/langchain-demo-apps/lib/python3.11/site-packages (from typer>=0.9.0->chromadb) (1.5.4)\r\n",
      "Requirement already satisfied: httptools>=0.6.3 in /opt/anaconda3/envs/langchain-demo-apps/lib/python3.11/site-packages (from uvicorn[standard]>=0.18.3->chromadb) (0.6.4)\r\n",
      "Requirement already satisfied: uvloop>=0.15.1 in /opt/anaconda3/envs/langchain-demo-apps/lib/python3.11/site-packages (from uvicorn[standard]>=0.18.3->chromadb) (0.21.0)\r\n",
      "Requirement already satisfied: watchfiles>=0.13 in /opt/anaconda3/envs/langchain-demo-apps/lib/python3.11/site-packages (from uvicorn[standard]>=0.18.3->chromadb) (1.1.0)\r\n",
      "Requirement already satisfied: websockets>=10.4 in /opt/anaconda3/envs/langchain-demo-apps/lib/python3.11/site-packages (from uvicorn[standard]>=0.18.3->chromadb) (15.0.1)\r\n",
      "Requirement already satisfied: soupsieve>1.2 in /opt/anaconda3/envs/langchain-demo-apps/lib/python3.11/site-packages (from beautifulsoup4->wikipedia) (2.5)\r\n",
      "Requirement already satisfied: humanfriendly>=9.1 in /opt/anaconda3/envs/langchain-demo-apps/lib/python3.11/site-packages (from coloredlogs->onnxruntime>=1.14.1->chromadb) (10.0)\r\n",
      "Requirement already satisfied: mpmath<1.4,>=1.1.0 in /opt/anaconda3/envs/langchain-demo-apps/lib/python3.11/site-packages (from sympy->onnxruntime>=1.14.1->chromadb) (1.3.0)\r\n"
     ]
    }
   ],
   "execution_count": 10,
   "source": "!pip install langchain chromadb faiss-cpu openai tiktoken langchain_openai langchain-community wikipedia",
   "id": "eb980281b3ee5f88"
  },
  {
   "metadata": {
    "ExecuteTime": {
     "end_time": "2025-09-18T22:15:56.806044Z",
     "start_time": "2025-09-18T22:15:56.803679Z"
    }
   },
   "cell_type": "code",
   "source": "from langchain_community.retrievers import WikipediaRetriever",
   "id": "e3b8ee905c18805a",
   "outputs": [],
   "execution_count": 5
  },
  {
   "metadata": {
    "ExecuteTime": {
     "end_time": "2025-09-18T22:16:04.852954Z",
     "start_time": "2025-09-18T22:16:04.816536Z"
    }
   },
   "cell_type": "code",
   "source": [
    "# Initialize the retriever (optional: set language and top_k)\n",
    "retriever = WikipediaRetriever(top_k_results=2, lang=\"en\")"
   ],
   "id": "db55ee8dbdcbc3d8",
   "outputs": [],
   "execution_count": 6
  },
  {
   "metadata": {
    "ExecuteTime": {
     "end_time": "2025-09-18T22:16:10.554126Z",
     "start_time": "2025-09-18T22:16:06.682367Z"
    }
   },
   "cell_type": "code",
   "source": [
    "# Define your query\n",
    "query = \"the geopolitical history of india and pakistan from the perspective of a chinese\"\n",
    "\n",
    "# Get relevant Wikipedia documents\n",
    "docs = retriever.invoke(query)"
   ],
   "id": "4b0613de8143b3db",
   "outputs": [],
   "execution_count": 7
  },
  {
   "metadata": {
    "ExecuteTime": {
     "end_time": "2025-09-18T22:16:29.925254Z",
     "start_time": "2025-09-18T22:16:29.920576Z"
    }
   },
   "cell_type": "code",
   "source": "docs",
   "id": "3c2bf8a0e92ff667",
   "outputs": [
    {
     "data": {
      "text/plain": [
       "[Document(metadata={'title': 'China–India relations', 'summary': \"China and India maintained peaceful relations for thousands of years, but their relationship has varied since the Chinese Communist Party (CCP)'s victory in the Chinese Civil War in 1949 and the annexation of Tibet by the People's Republic of China. The two nations have sought economic cooperation with each other, while frequent border disputes and economic nationalism in both countries are major points of contention.\\nCultural and economic relations between China and India date back to ancient times. The Silk Road not only served as a major trade route between India and China, but is also credited for facilitating the spread of Buddhism from India to East Asia. During the 19th century, China was involved in a growing opium trade with the East India Company, which exported opium grown in India. During World War II, both British India and the Republic of China (ROC) played a crucial role in halting the progress of Imperial Japan. After India became independent in 1947, it established relations with the ROC. The modern Sino-Indian diplomatic relationship began in 1950, when India was among the first noncommunist countries to end formal relations with the Republic of China and recognise the PRC as the legitimate government of both Mainland China and Taiwan. China and India are two of the major regional powers in Asia, and are the two most populous countries and among the fastest growing major economies in the world.\\nGrowth in diplomatic and economic influence has increased the significance of their bilateral relationship. Between 2008 and 2021, China has been India's largest trading partner, and the two countries have also extended their strategic and military relations. However, conflict of interest leads to hostility. India has a large trade deficit that is favoured towards China. The two countries failed to resolve their border dispute and Indian media outlets have repeatedly reported Chinese military incursions into Indian territory. And relations between contemporary China and India have been characterised by border disputes, resulting in three military conflicts – the Sino-Indian War of 1962, the border clashes in Nathu La and Cho La in 1967, and the 1987 Sumdorong Chu standoff. Since the late 1980s, both countries have successfully rebuilt diplomatic and economic ties.\\nSince 2013, border disputes have reemerged to take centre stage in the two countries' mutual relations. In early 2018, the two armies got engaged in a standoff at the Doklam plateau along the disputed Bhutan-China border. Since summer 2020, armed standoffs and skirmishes at multiple locations along the entire Sino-Indian border escalated. A serious clash occurred in the Galwan Valley, resulting in the death of 20 Indian soldiers and many Chinese soldiers. Both countries have steadily established military infrastructure along border areas, including amidst the 2020 China–India skirmishes. Additionally, India remains wary about China's strong strategic bilateral relations with Pakistan, and China's relations to separatist groups in Northeast India, while China has expressed concerns about Indian military and economic activities in the disputed South China Sea as well as hosting of anti-China activity from Tibetan exiles. Today, the South Asian region is the premier site of intensified great power competition between China and India.\", 'source': 'https://en.wikipedia.org/wiki/China%E2%80%93India_relations'}, page_content='China and India maintained peaceful relations for thousands of years, but their relationship has varied since the Chinese Communist Party (CCP)\\'s victory in the Chinese Civil War in 1949 and the annexation of Tibet by the People\\'s Republic of China. The two nations have sought economic cooperation with each other, while frequent border disputes and economic nationalism in both countries are major points of contention.\\nCultural and economic relations between China and India date back to ancient times. The Silk Road not only served as a major trade route between India and China, but is also credited for facilitating the spread of Buddhism from India to East Asia. During the 19th century, China was involved in a growing opium trade with the East India Company, which exported opium grown in India. During World War II, both British India and the Republic of China (ROC) played a crucial role in halting the progress of Imperial Japan. After India became independent in 1947, it established relations with the ROC. The modern Sino-Indian diplomatic relationship began in 1950, when India was among the first noncommunist countries to end formal relations with the Republic of China and recognise the PRC as the legitimate government of both Mainland China and Taiwan. China and India are two of the major regional powers in Asia, and are the two most populous countries and among the fastest growing major economies in the world.\\nGrowth in diplomatic and economic influence has increased the significance of their bilateral relationship. Between 2008 and 2021, China has been India\\'s largest trading partner, and the two countries have also extended their strategic and military relations. However, conflict of interest leads to hostility. India has a large trade deficit that is favoured towards China. The two countries failed to resolve their border dispute and Indian media outlets have repeatedly reported Chinese military incursions into Indian territory. And relations between contemporary China and India have been characterised by border disputes, resulting in three military conflicts – the Sino-Indian War of 1962, the border clashes in Nathu La and Cho La in 1967, and the 1987 Sumdorong Chu standoff. Since the late 1980s, both countries have successfully rebuilt diplomatic and economic ties.\\nSince 2013, border disputes have reemerged to take centre stage in the two countries\\' mutual relations. In early 2018, the two armies got engaged in a standoff at the Doklam plateau along the disputed Bhutan-China border. Since summer 2020, armed standoffs and skirmishes at multiple locations along the entire Sino-Indian border escalated. A serious clash occurred in the Galwan Valley, resulting in the death of 20 Indian soldiers and many Chinese soldiers. Both countries have steadily established military infrastructure along border areas, including amidst the 2020 China–India skirmishes. Additionally, India remains wary about China\\'s strong strategic bilateral relations with Pakistan, and China\\'s relations to separatist groups in Northeast India, while China has expressed concerns about Indian military and economic activities in the disputed South China Sea as well as hosting of anti-China activity from Tibetan exiles. Today, the South Asian region is the premier site of intensified great power competition between China and India.\\n\\n\\n== Geopolitical overview ==\\n\\nThe China–India border straddles the Himalayas, with Nepal and Bhutan acting as buffer states. Parts of the disputed Kashmir region claimed by India (J&K and Ladakh) are claimed and administered by either Pakistan (Azad Kashmir and Gilgit Baltistan) or by the PRC (Aksai Chin). The Government of Pakistan, on its maps, shows the Aksai Chin area as mostly within China and labels the boundary \"Frontier Undefined\", while India holds that Aksai Chin is illegally occupied by the PRC. China and India also dispute most of Arunachal Pradesh.\\nNot only is China\\'s India policy shaped by greater competition with the'),\n",
       " Document(metadata={'title': 'Foreign relations of Pakistan', 'summary': \"The Islamic Republic of Pakistan emerged as an independent country through the partition of India in August 1947 and was admitted as a United Nations member state in September 1947. It is currently the second-most populous country within the Muslim world, and is also the only Muslim-majority country openly in possession of nuclear weapons. The country shares land borders with India, Iran, Afghanistan, and China.\\nThe country has extensive trade relations with the European Union and with several countries globally. As of 2025, Pakistan does not recognize Israel and its ties with India remain frozen since 2019.\\nFrom a geopolitical perspective, Pakistan's location is strategically important as it is situated at the crossroads of major maritime and land transit routes between the Middle East and South Asia, while also serving as a bridge between the Arabian Sea and the energy-rich regions of Central Asia. Since the partition of India, the Kashmir conflict has defined the India–Pakistan relationship: the two countries claim each other's zones of control in Kashmir, but are separated by a ceasefire boundary known as the Line of Control. Pakistan has close bilateral ties with China and the Muslim world, including Turkey, Azerbaijan, and the Gulf Arab countries. As a part of the First World during the Cold War, Pakistan cooperated with the United States to combat the global influence of the Soviet Union, though this relationship later became strained over the course of the War on Terror. Pakistan is an active member of the Commonwealth of Nations, Organization of Islamic Cooperation, and the Shanghai Cooperation Organization.\", 'source': 'https://en.wikipedia.org/wiki/Foreign_relations_of_Pakistan'}, page_content='The Islamic Republic of Pakistan emerged as an independent country through the partition of India in August 1947 and was admitted as a United Nations member state in September 1947. It is currently the second-most populous country within the Muslim world, and is also the only Muslim-majority country openly in possession of nuclear weapons. The country shares land borders with India, Iran, Afghanistan, and China.\\nThe country has extensive trade relations with the European Union and with several countries globally. As of 2025, Pakistan does not recognize Israel and its ties with India remain frozen since 2019.\\nFrom a geopolitical perspective, Pakistan\\'s location is strategically important as it is situated at the crossroads of major maritime and land transit routes between the Middle East and South Asia, while also serving as a bridge between the Arabian Sea and the energy-rich regions of Central Asia. Since the partition of India, the Kashmir conflict has defined the India–Pakistan relationship: the two countries claim each other\\'s zones of control in Kashmir, but are separated by a ceasefire boundary known as the Line of Control. Pakistan has close bilateral ties with China and the Muslim world, including Turkey, Azerbaijan, and the Gulf Arab countries. As a part of the First World during the Cold War, Pakistan cooperated with the United States to combat the global influence of the Soviet Union, though this relationship later became strained over the course of the War on Terror. Pakistan is an active member of the Commonwealth of Nations, Organization of Islamic Cooperation, and the Shanghai Cooperation Organization.\\n\\n\\n== Foreign policy of Pakistan ==\\nPakistan\\'s foreign policy seeks the \\'promotion of Pakistan as a dynamic, progressive, moderate, and democratic Islamic country; developing friendly relations with all countries of the world, especially major powers and immediate neighbors; consolidating our commercial and economic cooperation with international community.\"\\nPakistan\\'s foreign policy is meant to formalize and define its interactions with foreign nations and standardize interactions with organizations, corporations and individual citizens. Backed by the semi-agricultural and semi-industrialized economy, Pakistan is the 44th largest (nominal GDP, 2025) and 26th largest (purchasing) economic power and 7th largest military in the world in terms of active personnel, with a defense budget of US$10.2 billion (2024), 2.7% of its GDP (2024). The Foreign Minister of Pakistan is the official charged with state-to-state diplomacy, although the Prime minister maintains an ultimate authority over foreign policy. The state foreign policy includes defining the national interest, as well as the economic interest and strategies chosen both to safeguard that and to achieve its policy goals. Following the general election held in May 2013, Tariq Fatimi and NSA Sartaj Aziz were designated as advisers to the Prime Minister on foreign and strategic policies. After the dismissal of Nawaz Sharif\\'s government in July 2017, Khawaja Muhammad Asif held the portfolio of foreign minister under the premiership of Shahid Khaqan Abbasi. After the victory of Imran Khan Niazi in the Pakistan General Elections 2018, Shah Mehmood Qureshi was named the Minister of Foreign Affairs. Subsequently, Bilawal Bhutto Zardari became foreign minister after the political crisis-a position previously held by his grandfather, Zulfikar Ali Bhutto, and Hina Rabbani Khar.\\n\\n\\n=== Muhammad Ali Jinnah\\'s Vision ===\\nIn 1947, Muhammad Ali Jinnah, founder of the state of Pakistan, clearly described the principles and objectives of Pakistan\\'s foreign policy in a broadcast message, which is featured prominently in a quotation on the homepage of Pakistan\\'s Ministry of Foreign Affairs website: \"The foundation of our foreign policy is friendship with all nations across the globe.\"\\nOn 15 August 1947, outlining the foreign policy of Pakistan, Quaid-e-Azam observed:\\n\\n\"Our objective sh')]"
      ]
     },
     "execution_count": 8,
     "metadata": {},
     "output_type": "execute_result"
    }
   ],
   "execution_count": 8
  },
  {
   "metadata": {
    "ExecuteTime": {
     "end_time": "2025-09-18T22:17:31.370477Z",
     "start_time": "2025-09-18T22:17:31.366820Z"
    }
   },
   "cell_type": "code",
   "source": [
    "# Print retrieved content\n",
    "for i, doc in enumerate(docs):\n",
    "    print(f\"\\n--- Result {i+1} ---\")\n",
    "    print(f\"Content:\\n{doc.page_content}...\")  # truncate for display"
   ],
   "id": "fc37abfeff21b3ad",
   "outputs": [
    {
     "name": "stdout",
     "output_type": "stream",
     "text": [
      "\n",
      "--- Result 1 ---\n",
      "Content:\n",
      "China and India maintained peaceful relations for thousands of years, but their relationship has varied since the Chinese Communist Party (CCP)'s victory in the Chinese Civil War in 1949 and the annexation of Tibet by the People's Republic of China. The two nations have sought economic cooperation with each other, while frequent border disputes and economic nationalism in both countries are major points of contention.\n",
      "Cultural and economic relations between China and India date back to ancient times. The Silk Road not only served as a major trade route between India and China, but is also credited for facilitating the spread of Buddhism from India to East Asia. During the 19th century, China was involved in a growing opium trade with the East India Company, which exported opium grown in India. During World War II, both British India and the Republic of China (ROC) played a crucial role in halting the progress of Imperial Japan. After India became independent in 1947, it established relations with the ROC. The modern Sino-Indian diplomatic relationship began in 1950, when India was among the first noncommunist countries to end formal relations with the Republic of China and recognise the PRC as the legitimate government of both Mainland China and Taiwan. China and India are two of the major regional powers in Asia, and are the two most populous countries and among the fastest growing major economies in the world.\n",
      "Growth in diplomatic and economic influence has increased the significance of their bilateral relationship. Between 2008 and 2021, China has been India's largest trading partner, and the two countries have also extended their strategic and military relations. However, conflict of interest leads to hostility. India has a large trade deficit that is favoured towards China. The two countries failed to resolve their border dispute and Indian media outlets have repeatedly reported Chinese military incursions into Indian territory. And relations between contemporary China and India have been characterised by border disputes, resulting in three military conflicts – the Sino-Indian War of 1962, the border clashes in Nathu La and Cho La in 1967, and the 1987 Sumdorong Chu standoff. Since the late 1980s, both countries have successfully rebuilt diplomatic and economic ties.\n",
      "Since 2013, border disputes have reemerged to take centre stage in the two countries' mutual relations. In early 2018, the two armies got engaged in a standoff at the Doklam plateau along the disputed Bhutan-China border. Since summer 2020, armed standoffs and skirmishes at multiple locations along the entire Sino-Indian border escalated. A serious clash occurred in the Galwan Valley, resulting in the death of 20 Indian soldiers and many Chinese soldiers. Both countries have steadily established military infrastructure along border areas, including amidst the 2020 China–India skirmishes. Additionally, India remains wary about China's strong strategic bilateral relations with Pakistan, and China's relations to separatist groups in Northeast India, while China has expressed concerns about Indian military and economic activities in the disputed South China Sea as well as hosting of anti-China activity from Tibetan exiles. Today, the South Asian region is the premier site of intensified great power competition between China and India.\n",
      "\n",
      "\n",
      "== Geopolitical overview ==\n",
      "\n",
      "The China–India border straddles the Himalayas, with Nepal and Bhutan acting as buffer states. Parts of the disputed Kashmir region claimed by India (J&K and Ladakh) are claimed and administered by either Pakistan (Azad Kashmir and Gilgit Baltistan) or by the PRC (Aksai Chin). The Government of Pakistan, on its maps, shows the Aksai Chin area as mostly within China and labels the boundary \"Frontier Undefined\", while India holds that Aksai Chin is illegally occupied by the PRC. China and India also dispute most of Arunachal Pradesh.\n",
      "Not only is China's India policy shaped by greater competition with the...\n",
      "\n",
      "--- Result 2 ---\n",
      "Content:\n",
      "The Islamic Republic of Pakistan emerged as an independent country through the partition of India in August 1947 and was admitted as a United Nations member state in September 1947. It is currently the second-most populous country within the Muslim world, and is also the only Muslim-majority country openly in possession of nuclear weapons. The country shares land borders with India, Iran, Afghanistan, and China.\n",
      "The country has extensive trade relations with the European Union and with several countries globally. As of 2025, Pakistan does not recognize Israel and its ties with India remain frozen since 2019.\n",
      "From a geopolitical perspective, Pakistan's location is strategically important as it is situated at the crossroads of major maritime and land transit routes between the Middle East and South Asia, while also serving as a bridge between the Arabian Sea and the energy-rich regions of Central Asia. Since the partition of India, the Kashmir conflict has defined the India–Pakistan relationship: the two countries claim each other's zones of control in Kashmir, but are separated by a ceasefire boundary known as the Line of Control. Pakistan has close bilateral ties with China and the Muslim world, including Turkey, Azerbaijan, and the Gulf Arab countries. As a part of the First World during the Cold War, Pakistan cooperated with the United States to combat the global influence of the Soviet Union, though this relationship later became strained over the course of the War on Terror. Pakistan is an active member of the Commonwealth of Nations, Organization of Islamic Cooperation, and the Shanghai Cooperation Organization.\n",
      "\n",
      "\n",
      "== Foreign policy of Pakistan ==\n",
      "Pakistan's foreign policy seeks the 'promotion of Pakistan as a dynamic, progressive, moderate, and democratic Islamic country; developing friendly relations with all countries of the world, especially major powers and immediate neighbors; consolidating our commercial and economic cooperation with international community.\"\n",
      "Pakistan's foreign policy is meant to formalize and define its interactions with foreign nations and standardize interactions with organizations, corporations and individual citizens. Backed by the semi-agricultural and semi-industrialized economy, Pakistan is the 44th largest (nominal GDP, 2025) and 26th largest (purchasing) economic power and 7th largest military in the world in terms of active personnel, with a defense budget of US$10.2 billion (2024), 2.7% of its GDP (2024). The Foreign Minister of Pakistan is the official charged with state-to-state diplomacy, although the Prime minister maintains an ultimate authority over foreign policy. The state foreign policy includes defining the national interest, as well as the economic interest and strategies chosen both to safeguard that and to achieve its policy goals. Following the general election held in May 2013, Tariq Fatimi and NSA Sartaj Aziz were designated as advisers to the Prime Minister on foreign and strategic policies. After the dismissal of Nawaz Sharif's government in July 2017, Khawaja Muhammad Asif held the portfolio of foreign minister under the premiership of Shahid Khaqan Abbasi. After the victory of Imran Khan Niazi in the Pakistan General Elections 2018, Shah Mehmood Qureshi was named the Minister of Foreign Affairs. Subsequently, Bilawal Bhutto Zardari became foreign minister after the political crisis-a position previously held by his grandfather, Zulfikar Ali Bhutto, and Hina Rabbani Khar.\n",
      "\n",
      "\n",
      "=== Muhammad Ali Jinnah's Vision ===\n",
      "In 1947, Muhammad Ali Jinnah, founder of the state of Pakistan, clearly described the principles and objectives of Pakistan's foreign policy in a broadcast message, which is featured prominently in a quotation on the homepage of Pakistan's Ministry of Foreign Affairs website: \"The foundation of our foreign policy is friendship with all nations across the globe.\"\n",
      "On 15 August 1947, outlining the foreign policy of Pakistan, Quaid-e-Azam observed:\n",
      "\n",
      "\"Our objective sh...\n"
     ]
    }
   ],
   "execution_count": 9
  },
  {
   "metadata": {},
   "cell_type": "code",
   "outputs": [],
   "execution_count": null,
   "source": "## Vector Store Retriever\n",
   "id": "efab2d146355a2bc"
  }
 ],
 "metadata": {
  "kernelspec": {
   "name": "python3",
   "language": "python",
   "display_name": "Python 3 (ipykernel)"
  }
 },
 "nbformat": 4,
 "nbformat_minor": 5
}
